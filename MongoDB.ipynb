{
  "nbformat": 4,
  "nbformat_minor": 0,
  "metadata": {
    "colab": {
      "provenance": [],
      "include_colab_link": true
    },
    "kernelspec": {
      "name": "python3",
      "display_name": "Python 3"
    },
    "language_info": {
      "name": "python"
    }
  },
  "cells": [
    {
      "cell_type": "markdown",
      "metadata": {
        "id": "view-in-github",
        "colab_type": "text"
      },
      "source": [
        "<a href=\"https://colab.research.google.com/github/StefaneBG/MongoDB-pymongo/blob/main/MongoDB.ipynb\" target=\"_parent\"><img src=\"https://colab.research.google.com/assets/colab-badge.svg\" alt=\"Open In Colab\"/></a>"
      ]
    },
    {
      "cell_type": "code",
      "execution_count": null,
      "metadata": {
        "id": "Ip1nY2OlUNQV"
      },
      "outputs": [],
      "source": [
        "!pip install pymongo"
      ]
    },
    {
      "cell_type": "code",
      "source": [
        "!curl ipecho.net/plain"
      ],
      "metadata": {
        "id": "g0qFOlX6Xdyc"
      },
      "execution_count": null,
      "outputs": []
    },
    {
      "cell_type": "code",
      "source": [
        "from pymongo import MongoClient\n",
        "# Importa a biblioteca pandas para manipulação de dados em formato de tabela\n",
        "import pandas as pd\n",
        "\n",
        "# Conectar ao MongoDB Atlas\n",
        "# Substitua <MONGO_URI> pela URI de conexão do seu banco de dados MongoDB\n",
        "# Exemplo de URI: 'mongodb+srv://<usuario>:<senha>@cluster0.kbdw3.mongodb.net/?retryWrites=true&w=majority&appName=Cluster0'\n",
        "client = MongoClient('<MONGO_URI>')\n",
        "\n",
        "# Seleciona o banco de dados 'locadora' para operações subsequentes\n",
        "db = client['locadora']  # Nome do banco de dados"
      ],
      "metadata": {
        "id": "Ypu5HT2XYekV"
      },
      "execution_count": null,
      "outputs": []
    },
    {
      "cell_type": "code",
      "source": [
        "carro = pd.read_csv('https://docs.google.com/spreadsheets/d/e/2PACX-1vSznlX7UXeH_LeKcNteiDnWvdwZyydAQl0_x8NU9cx6G00Zh7SMrjoUuNpytVq7U-iQVzQNJ7jC7GpY/pub?gid=306989914&single=true&output=csv')\n",
        "carro = carro.to_dict(orient='records')\n",
        "db.carro.insert_many(carro)"
      ],
      "metadata": {
        "id": "X0yUzk8HYnEA"
      },
      "execution_count": null,
      "outputs": []
    },
    {
      "cell_type": "code",
      "source": [
        "cliente = pd.read_csv('https://docs.google.com/spreadsheets/d/e/2PACX-1vQW3fP3j4qoiMGBXDAGzg_9IW2b3zgjdkVKLsURNVe9QezpHXimWfKle_55CQQtkeWL69OAASBDNdk8/pub?gid=2073489257&single=true&output=csv')\n",
        "cliente = cliente.to_dict(orient='records')\n",
        "db.cliente.insert_many(cliente)"
      ],
      "metadata": {
        "id": "anOgefrvYo3r"
      },
      "execution_count": null,
      "outputs": []
    },
    {
      "cell_type": "code",
      "source": [
        "marca = pd.read_csv('https://docs.google.com/spreadsheets/d/e/2PACX-1vSI-4_QEFwZ6eDGwUDlip0_PGBn7d_F7j59UwXmRvWbQFyy01ENPatjkbO1E8k5ZW5lqSY9ox112j7X/pub?gid=1160143272&single=true&output=csv')\n",
        "marca = marca.to_dict(orient='records')\n",
        "db.marca.insert_many(marca)"
      ],
      "metadata": {
        "id": "nweS7BZvYqoE"
      },
      "execution_count": null,
      "outputs": []
    },
    {
      "cell_type": "code",
      "source": [
        "# Listando todos os bancos do Cluster\n",
        "print(client.list_database_names())"
      ],
      "metadata": {
        "id": "iUAJNHGwYsel"
      },
      "execution_count": null,
      "outputs": []
    },
    {
      "cell_type": "markdown",
      "source": [
        "# OPERADORES DE COMPARAÇÃO"
      ],
      "metadata": {
        "id": "MuZTJ4KbZCz3"
      }
    },
    {
      "cell_type": "code",
      "source": [
        "'''\n",
        "igual a ($eq)\n",
        "diferente de ($ne)\n",
        "maior que ($gt)\n",
        "maior ou igual a ($gte)\n",
        "menor que ($lt)\n",
        "menor ou igual a ($lte)\n",
        "'''"
      ],
      "metadata": {
        "id": "OrS0vWJDZF57"
      },
      "execution_count": null,
      "outputs": []
    },
    {
      "cell_type": "code",
      "source": [
        "# Alternativa utilizando o operador $eq\n",
        "'''\n",
        "Faça uma consulta que retorne todos os documentos\n",
        "da coleção carro cujo valor seja igual a 150\n",
        "'''\n",
        "igual_150=pd.DataFrame(list(db.carro.find({'valor': {'$eq': 150}})))\n",
        "igual_150"
      ],
      "metadata": {
        "id": "wZc-GuzHZH26"
      },
      "execution_count": null,
      "outputs": []
    },
    {
      "cell_type": "code",
      "source": [
        "'''\n",
        "Faça uma consulta e retorne todos os modelos de carros diferentes de Kwid\n",
        "'''\n",
        "\n",
        "ne_kwid = pd.DataFrame(list(db.carro.find({'modelo': {'$ne': 'Kwid'}})))\n",
        "if '_id' in ne_kwid.columns:\n",
        "  ne_kwid.drop('_id', axis=1, inplace=True)\n",
        "else:\n",
        "  pass\n",
        "ne_kwid.head()"
      ],
      "metadata": {
        "id": "bUDmytZOZ_6r"
      },
      "execution_count": null,
      "outputs": []
    },
    {
      "cell_type": "code",
      "source": [
        "'''\n",
        "Faça uma consulta que retorne todos os carros cujo valor seja maior que 120\n",
        "'''\n",
        "maior_120 = pd.DataFrame(list(db.carro.find({'valor': {'$gt': 120}})))\n",
        "if '_id' in maior_120.columns:\n",
        "  maior_120.drop('_id', axis=1, inplace=True)\n",
        "else:\n",
        "  pass\n",
        "maior_120.head()\n"
      ],
      "metadata": {
        "id": "YRraSjFWcvhU"
      },
      "execution_count": null,
      "outputs": []
    },
    {
      "cell_type": "code",
      "source": [
        "'''\n",
        "Faça uma consulta que retorne todos os carros cujo valor seja maior e igual que 120\n",
        "'''\n",
        "maiorouigual_120 = pd.DataFrame(list(db.carro.find({'valor': {'$gte': 120}})))\n",
        "if '_id' in maiorouigual_120.columns:\n",
        "  maiorouigual_120.drop('_id', axis=1, inplace=True)\n",
        "else:\n",
        "  pass\n",
        "maiorouigual_120.head()\n"
      ],
      "metadata": {
        "id": "sksmY_zWdTo-"
      },
      "execution_count": null,
      "outputs": []
    },
    {
      "cell_type": "code",
      "source": [
        "'''\n",
        "Faça uma consulta que retorne todos os carros cujo valor seja menor que 120\n",
        "'''\n",
        "menor_120 = pd.DataFrame(list(db.carro.find({'valor': {'$lt': 120}})))\n",
        "if '_id' in menor_120.columns:\n",
        "  menor_120.drop('_id', axis=1, inplace=True)\n",
        "else:\n",
        "  pass\n",
        "menor_120.head()"
      ],
      "metadata": {
        "id": "MGqnjLoodcyS"
      },
      "execution_count": null,
      "outputs": []
    },
    {
      "cell_type": "code",
      "source": [
        "'''\n",
        "Faça uma consulta que retorne todos os carros cujo valor seja menor ou igual que 120\n",
        "'''\n",
        "menorouigual_120 = pd.DataFrame(list(db.carro.find({'valor': {'$lte': 120}})))\n",
        "if '_id' in menorouigual_120.columns:\n",
        "  menorouigual_120.drop('_id', axis=1, inplace=True)\n",
        "else:\n",
        "  pass\n",
        "menorouigual_120.head()"
      ],
      "metadata": {
        "id": "Na3AS1qYdlam"
      },
      "execution_count": null,
      "outputs": []
    },
    {
      "cell_type": "markdown",
      "source": [
        "#Operadores de verificação"
      ],
      "metadata": {
        "id": "e3rcG3XPdrz7"
      }
    },
    {
      "cell_type": "code",
      "source": [
        "'''\n",
        "Fça uma consult que retorne todos os documentos da coleção cliente onde o campo estadocivil tenha valor valido ($exists)\n",
        "'''\n",
        "estadocivil_valido = pd.DataFrame(list(db.cliente.find({'estadocivil': {'$exists': True}})))\n",
        "if '_id' in estadocivil_valido.columns:\n",
        "  estadocivil_valido.drop('_id', axis=1, inplace=True)\n",
        "else:\n",
        "  pass\n",
        "estadocivil_valido.head()"
      ],
      "metadata": {
        "id": "EEHMHVKHdrJ7"
      },
      "execution_count": null,
      "outputs": []
    },
    {
      "cell_type": "code",
      "source": [
        "'''\n",
        "Fça uma consult que retorne todos os documentos da coleção cliente onde o campo estadocivil não tenha valor valido ($exists)\n",
        "'''\n",
        "estadocivil_invalido = pd.DataFrame(list(db.cliente.find({'estadocivil': {'$exists': False}})))\n",
        "if '_id' in estadocivil_invalido.columns:\n",
        "  estadocivil_invalido.drop('_id', axis=1, inplace=True)\n",
        "else:\n",
        "  pass\n",
        "estadocivil_invalido.head()"
      ],
      "metadata": {
        "id": "UyiiNxCTeVUE"
      },
      "execution_count": null,
      "outputs": []
    },
    {
      "cell_type": "code",
      "source": [
        "'''\n",
        "Faça uma consulta que retorne todos os documentos da coleção cliente cujo os valores dos campo nome  sejam do tipo string\n",
        "'''\n",
        "nome_string = pd.DataFrame(list(db.cliente.find({'nome':{'$type':'string'}})))\n",
        "if '_id' in nome_string.columns:\n",
        "  nome_string.drop(columns=['_id'], inplace=True)\n",
        "else:\n",
        "  pass\n",
        "nome_string.head()"
      ],
      "metadata": {
        "id": "30P6NwK5e12E"
      },
      "execution_count": null,
      "outputs": []
    },
    {
      "cell_type": "code",
      "source": [
        "'''\n",
        "Faça uma consulta que retorne todos os documentos da coleção\n",
        "carro cujos valores do campo codcarro sejam do tipo int\n",
        "'''\n",
        "a = list(db.carro.find({'codcarro':{'$type':'int'}}))\n",
        "df = pd.DataFrame(a)\n",
        "if '_id' in df.columns:\n",
        "  df.drop('_id', axis=1, inplace=True)\n",
        "else:\n",
        "  pass\n",
        "df.head()"
      ],
      "metadata": {
        "id": "ha42OHNOf9Ho"
      },
      "execution_count": null,
      "outputs": []
    },
    {
      "cell_type": "code",
      "source": [
        "'''\n",
        "Faça uma consulta que retorne os documentos da caloeção aluguel cujos\n",
        "valores do campo data_aluguel sejam do tipo 'string'\n",
        "'''\n",
        "a = list(db.aluguel.find({'data_aluguel':{'$type':'string'}}))\n",
        "df = pd.DataFrame(a)\n",
        "if '_id' in df.columns:\n",
        "  df.drop('_id', axis=1, inplace=True)\n",
        "else:\n",
        "  pass\n",
        "df.head()"
      ],
      "metadata": {
        "id": "K3lsDDNQ9uXR"
      },
      "execution_count": null,
      "outputs": []
    },
    {
      "cell_type": "markdown",
      "source": [
        "# Operadores Lógicos (AND e OR)\\"
      ],
      "metadata": {
        "id": "R5Dpj3mB9y1W"
      }
    },
    {
      "cell_type": "code",
      "source": [
        "'''\n",
        "Faça uma consulta que retorne todos os documentos da coleção\n",
        "cliente que sejam solteiros e do sexo masculino\n",
        "'''\n",
        "a = list(db.cliente.find({'$and':[{'estadocivil':'S'},{'sexo':'M'}]}))\n",
        "df = pd.DataFrame(a)\n",
        "if '_id' in df.columns:\n",
        "  df.drop('_id', axis=1, inplace=True)\n",
        "else:\n",
        "  pass\n",
        "df.head()"
      ],
      "metadata": {
        "id": "wa-ddWLn9zkd"
      },
      "execution_count": null,
      "outputs": []
    },
    {
      "cell_type": "code",
      "source": [
        "'''\n",
        "Faça uma consulta que retorne todos os documentos da coleção\n",
        "carro que sejam Ka, Argo ou Onix e valor acima de 120\n",
        "'''\n",
        "a = list(db.cliente.find({\n",
        "    '$and': [\n",
        "        {'nome': {'$in': ['Ana Silva', 'Bruna Pereira', 'Lúcia Andrade']}},\n",
        "        {'estado': {'$eq': 'RJ'}},\n",
        "        {'estadocivil': {'$eq': 'C'}}\n",
        "    ]\n",
        "}))\n",
        "\n",
        "df = pd.DataFrame(a)\n",
        "\n",
        "if '_id' in df.columns:\n",
        "    df.drop('_id', axis=1, inplace=True)\n",
        "\n",
        "df.head()\n",
        "\n"
      ],
      "metadata": {
        "id": "1sx1kr1g92kt"
      },
      "execution_count": null,
      "outputs": []
    },
    {
      "cell_type": "code",
      "source": [
        "'''\n",
        "Faça uma consulta que retorne todos os documentos da coleção\n",
        "cliente cujo nome seja Ana Silva, Bruna Pereira ou Fernando Souza e\n",
        "do SP e estadocivil S e sexo M\n",
        "'''\n",
        "a = list(db.cliente.find({\n",
        "    '$and':[\n",
        "        {'nome':{'$in':['Ana Silva', 'Bruna Pereira','Fernando Souza']}},\n",
        "        {'estado':{'$eq':'SP'}},\n",
        "        {'estadocivil':{'$eq':'S'}},\n",
        "        {'sexo':{'$eq':'M'}}\n",
        "]\n",
        "}\n",
        "))\n",
        "df = pd.DataFrame(a)\n",
        "if '_id' in df.columns:\n",
        "  df.drop('_id', axis=1, inplace=True)\n",
        "else:\n",
        "  pass\n",
        "df.head()"
      ],
      "metadata": {
        "id": "iL2hsD6d95cs"
      },
      "execution_count": null,
      "outputs": []
    },
    {
      "cell_type": "code",
      "source": [
        "'''\n",
        "Faça uma consulta que retorne todos os modelos de carro\n",
        "que sejam Kwid ou Polo\n",
        "'''\n",
        "a = list(db.carro.find(\n",
        "    {'$or':[\n",
        "        {'modelo':'Kwid'},\n",
        "        {'modelo':'Polo'}\n",
        "    ]}\n",
        "))\n",
        "df = pd.DataFrame(a)\n",
        "if '_id' in df.columns:\n",
        "  df.drop('_id', axis=1, inplace=True)\n",
        "else:\n",
        "  pass\n",
        "df.head()"
      ],
      "metadata": {
        "id": "8iictEMFMJ03"
      },
      "execution_count": null,
      "outputs": []
    },
    {
      "cell_type": "code",
      "source": [
        "'''\n",
        "Faça uma consulta que retorne todos os modelos de carro\n",
        "que sejam Kwid ou Polo\n",
        "'''\n",
        "a = list(db.carro.find(\n",
        "    {'modelo':{'$in':['Kwid','Polo']}}\n",
        "))\n",
        "df = pd.DataFrame(a)\n",
        "if '_id' in df.columns:\n",
        "  df.drop('_id', axis=1, inplace=True)\n",
        "else:\n",
        "  pass\n",
        "df.head()"
      ],
      "metadata": {
        "id": "1NQvVzq_ML7K"
      },
      "execution_count": null,
      "outputs": []
    },
    {
      "cell_type": "code",
      "source": [
        "'''\n",
        "Faça uma consulta que retorne os documentos da coleção aluguel\n",
        "que tenham acontecido entre 01 de abril de 2023 e 04 de abril de 2023\n",
        "(inclusive) e sejam os carros de código 1, 3 ou 5 e alugados pelos\n",
        "clientes 2, 4 ou 5.\n",
        "'''\n",
        "a = list(db.aluguel.find(\n",
        "    {'$and':[\n",
        "{'data_aluguel':{'$in':['2023-04-01','2023-04-02','2023-04-03','2023-04-04']}},\n",
        "{'codcarro':{'$in':[1, 3 , 5]}},\n",
        "{'codcliente':{'$in':[2, 4, 5]}}\n",
        "    ]}\n",
        "))\n",
        "df = pd.DataFrame(a)\n",
        "if '_id' in df.columns:\n",
        "  df.drop('_id', axis=1, inplace=True)\n",
        "else:\n",
        "  pass\n",
        "df.head()"
      ],
      "metadata": {
        "id": "784T3lLBMN66"
      },
      "execution_count": null,
      "outputs": []
    },
    {
      "cell_type": "markdown",
      "source": [
        "# Estágios de agregação"
      ],
      "metadata": {
        "id": "2ApfxOH7KXj6"
      }
    },
    {
      "cell_type": "code",
      "source": [
        "\n",
        "'''\n",
        "Faça uma consulta que retorne a quantidade de documentos na coleção carro\n",
        "'''\n",
        "list(db.carro.aggregate([\n",
        "    {'$count':'contagem de carros'}\n",
        "]))\n"
      ],
      "metadata": {
        "id": "v4CXSdbVNQlf"
      },
      "execution_count": null,
      "outputs": []
    },
    {
      "source": [
        "'''\n",
        "Faça uma consulta que retorne a soma dos valores dos carros\n",
        "'''\n",
        "a = list(db.carro.aggregate([\n",
        "    {\n",
        "        '$group': {\n",
        "            '_id': '$modelo',  # Agrupa pelo modelo do carro\n",
        "            'valor_total': {'$sum': '$valor'}  # soma o valor dos carros agrupados\n",
        "        }\n",
        "    }]))\n",
        "df=pd.DataFrame(a)\n",
        "\n",
        "df.head()"
      ],
      "cell_type": "code",
      "metadata": {
        "id": "OHozh2dqV0Ex"
      },
      "execution_count": null,
      "outputs": []
    },
    {
      "cell_type": "code",
      "source": [
        "a = list(db.carro.aggregate([\n",
        "    {\n",
        "        '$group': {\n",
        "            '_id': '$modelo',  # Agrupa pelo modelo do carro\n",
        "            'contagem': {'$count': {}}  # conta carros agrupados\n",
        "        }\n",
        "    }]))\n",
        "df=pd.DataFrame(a)\n",
        "if '_id' in df.columns:\n",
        "    df.rename(columns={'_id':'modelo'}, inplace=True)\n",
        "else:\n",
        "  pass\n",
        "\n",
        "df.head()"
      ],
      "metadata": {
        "id": "jdYXDyDKWXrW"
      },
      "execution_count": null,
      "outputs": []
    },
    {
      "cell_type": "code",
      "source": [
        "'''\n",
        "groupby(): Agrupar os dados por diferentes critérios.\n",
        "sum(): Calcular a soma de colunas numéricas.\n",
        "mean(): Calcular a média de colunas numéricas.\n",
        "describe(): Obter estatísticas descritivas do DataFrame.\n",
        "sort_values(): Ordenar os dados por uma determinada coluna.\n",
        "'''"
      ],
      "metadata": {
        "id": "BwmsVQHvZBTf"
      },
      "execution_count": null,
      "outputs": []
    },
    {
      "cell_type": "code",
      "source": [
        "'''\n",
        "Faça uma consulta que retorne a soma dos valores dos carros\n",
        "'''\n",
        "\n",
        "a = list(db.carro.aggregate([\n",
        "    {\n",
        "        '$group': {\n",
        "            '_id': '$modelo',  # Agrupa pelo modelo do carro\n",
        "            'contagem': {'$count': {}}  # conta carros agrupados\n",
        "        }\n",
        "    }]))\n",
        "df=pd.DataFrame(a)\n",
        "\n",
        "df.head()"
      ],
      "metadata": {
        "id": "24nhwzgiZDgB"
      },
      "execution_count": null,
      "outputs": []
    },
    {
      "cell_type": "markdown",
      "source": [
        "#exercicios"
      ],
      "metadata": {
        "id": "bFmaXUy5EA34"
      }
    },
    {
      "cell_type": "code",
      "source": [
        "'''\n",
        "Faça uma consulta que retorne os documentos os documentos da coleção\n",
        "cliente que sejam de Duque de Caxias e do sexo Femenino\n",
        "'''\n",
        "a=list(db.cliente.find(\n",
        "    {\n",
        "    '$and':[\n",
        "        {'cidade':'Duque de Caxias'},\n",
        "        {'sexo':'F'}\n",
        "    ]\n",
        "}))\n",
        "df=pd.DataFrame(a)\n",
        "if '_id' in df.columns:\n",
        "  df.drop('_id', axis=1, inplace=True)\n",
        "else:\n",
        "  pass\n",
        "df.head()"
      ],
      "metadata": {
        "id": "EE4AnJ3rcCXd"
      },
      "execution_count": null,
      "outputs": []
    },
    {
      "cell_type": "code",
      "source": [
        "'''\n",
        "Faça uma consulta que retorna todos os carros que sejam da marca Fiat ou Renault\n",
        "'''\n",
        "a= list(db.carro.find(\n",
        "    {'$or':[\n",
        "        {'marca':'Fiat'},\n",
        "        {'marca':'Renault'}\n",
        "    ]}\n",
        "))\n",
        "df=pd.DataFrame(a)\n",
        "if '_id' in df.columns:\n",
        "  df.drop(columns={'_id'}, inplace=True)\n",
        "else:\n",
        "  pass\n",
        "df.head()\n"
      ],
      "metadata": {
        "id": "sW-1eThNcMbP"
      },
      "execution_count": null,
      "outputs": []
    },
    {
      "cell_type": "code",
      "source": [
        "'''\n",
        "Faça uma consultas que retonr a soma de todos os códigos de carro\n",
        "'''"
      ],
      "metadata": {
        "id": "dhXZz6zecYHe"
      },
      "execution_count": null,
      "outputs": []
    },
    {
      "cell_type": "code",
      "source": [
        "'''\n",
        "Retorne todos os documentos da coleção aluguel do dia 21 de abril de 2023\n",
        "'''"
      ],
      "metadata": {
        "id": "TlkCz7egcdzn"
      },
      "execution_count": null,
      "outputs": []
    },
    {
      "cell_type": "code",
      "source": [
        "'''\n",
        "Retorne todos os documentos da coleção de carros cujo valor seja maior que 50\n",
        "'''"
      ],
      "metadata": {
        "id": "SQmlzClicn1k"
      },
      "execution_count": null,
      "outputs": []
    },
    {
      "cell_type": "markdown",
      "source": [
        "# Joins"
      ],
      "metadata": {
        "id": "LHAoc0m5Vy1A"
      }
    },
    {
      "cell_type": "code",
      "source": [
        "'''\n",
        "$lookup\n",
        "$unwind\n",
        "$project\n",
        "'''"
      ],
      "metadata": {
        "id": "xbmsfO7aV4eg"
      },
      "execution_count": null,
      "outputs": []
    },
    {
      "cell_type": "code",
      "source": [
        "'''\n",
        "list(db.colecao1.aggregate([{'$lookup':{'from':'colecao2','localField':'chave_colecao2','foreignField':'chave_colecao1','as':'alias_resultante'}},\n",
        "{'$unwind':$alias_resultante},{'$project':{'_id':0,'campo_colecao1':1,'campo_resultante':'$campo_resultante_1'}}]))\n",
        "'''"
      ],
      "metadata": {
        "id": "GRxf9gS2WcTp"
      },
      "execution_count": null,
      "outputs": []
    },
    {
      "cell_type": "code",
      "source": [
        "# Exemplo\n",
        "a = list(db.carro.aggregate([\n",
        "    {'$lookup':{'from':'marca','localField':'codmarca','foreignField':'codmarca','as':'carro_marca'}},\n",
        "    {'$unwind':'$carro_marca'},\n",
        "     {'$project':{'_id':0,'modelo':1,'marca':'$carro_marca.marca'}}]))\n",
        "df = pd.DataFrame(a)\n",
        "display(df)"
      ],
      "metadata": {
        "id": "JOXZjvjRYrj2"
      },
      "execution_count": null,
      "outputs": []
    },
    {
      "cell_type": "code",
      "source": [
        "a = list(db.aluguel.aggregate([\n",
        "    {'$lookup':{\n",
        "        'from':'carro',\n",
        "        'localField':'codcarro',\n",
        "        'foreignField':'codcarro',\n",
        "        'as':'aluguel_carro'\n",
        "    }}\n",
        "    ,{'$unwind':'$aluguel_carro'},\n",
        "     {\n",
        "      '$lookup':{\n",
        "         'from':'cliente',\n",
        "         'localField':'codcliente',\n",
        "         'foreignField':'codcliente',\n",
        "         'as':'completo'\n",
        "      }\n",
        "    },\n",
        "\n",
        "    {'$unwind':'$completo'},\n",
        "\n",
        "   {'$project':{\n",
        "       '_id':0,\n",
        "       #'codaluguel':1,\n",
        "       'codcliente':1,\n",
        "       'codcarro':1,\n",
        "       'data_aluguel':1,\n",
        "       'codmarca':'$aluguel_carro.codmarca',\n",
        "       'modelo':'$aluguel_carro.modelo',\n",
        "       'valor':'$aluguel_carro.valor',\n",
        "       'nome':'$completo.nome',\n",
        "       'cidade':'$completo.cidade',\n",
        "       'sexo':'$completo.sexo',\n",
        "       'estado':'$completo.estado',\n",
        "       'estadocivil':'$completo.estadocivil'\n",
        "       }}\n",
        "\n",
        "]))\n",
        "df = pd.DataFrame(a)\n",
        "display(df)"
      ],
      "metadata": {
        "id": "TA85wxSakEWU"
      },
      "execution_count": null,
      "outputs": []
    },
    {
      "cell_type": "code",
      "source": [
        "'''\n",
        "Faça uma consulta que retorne os modelos e as datas em que foram alugados\n",
        "'''\n",
        "a = list(\n",
        "    db.aluguel.aggregate([\n",
        "        {'$lookup':{\n",
        "            'from':'carro',\n",
        "            'localField':'codcarro',\n",
        "            'foreignField':'codcarro',\n",
        "            'as':'aluguel_carro'\n",
        "        }},\n",
        "        {'$unwind':'$aluguel_carro'},\n",
        "        {'$project':{\n",
        "            '_id':0,\n",
        "            'modelo':'$aluguel_carro.modelo',\n",
        "            'data_aluguel':1\n",
        "        }}\n",
        "    ])\n",
        ")\n",
        "df = pd.DataFrame(a)\n",
        "display(df)"
      ],
      "metadata": {
        "id": "34iVAzLnpFzf"
      },
      "execution_count": null,
      "outputs": []
    },
    {
      "cell_type": "code",
      "source": [
        "'''\n",
        "Faça uma consulta que retorne O nome dos clientes, os modelos alugados e as datas\n",
        "dos alugueis\n",
        "'''\n",
        "a=list(\n",
        "    db.aluguel.aggregate([\n",
        "        {'$lookup':{\n",
        "            'from':'carro',\n",
        "            'localField':'codcarro',\n",
        "            'foreignField':'codcarro',\n",
        "            'as':'aluguel_carro'\n",
        "        }},\n",
        "        {'$unwind':'$aluguel_carro'},\n",
        "        {'$lookup':{\n",
        "            'from':'cliente',\n",
        "            'localField':'codcliente',\n",
        "            'foreignField':'codcliente',\n",
        "            'as':'aluguel_cliente'\n",
        "        }},\n",
        "        {'$unwind':'$aluguel_cliente'},\n",
        "        {\n",
        "            '$project':{\n",
        "                '_id':0,\n",
        "                'nome':'$aluguel_cliente.nome',\n",
        "                'modelo':'$aluguel_carro.modelo',\n",
        "                'data_aluguel':1\n",
        "            }\n",
        "        }\n",
        "        ])\n",
        ")\n",
        "df=pd.DataFrame(a)\n",
        "display(df)"
      ],
      "metadata": {
        "id": "Tl-kGRzWxrjd"
      },
      "execution_count": null,
      "outputs": []
    },
    {
      "cell_type": "code",
      "source": [
        "'''\n",
        "Faça uma consulta que retorne nome, modelo e data de aluguel, para todos os\n",
        "documentos que contenham o nome Bruna Pereira e os modelos de carros Ka ou Polo\n",
        "'''\n",
        "a = list(db.aluguel.aggregate([\n",
        "    {'$lookup': {\n",
        "        'from': 'carro',\n",
        "        'localField': 'codcarro',\n",
        "        'foreignField': 'codcarro',\n",
        "        'as': 'aluguel_carro'\n",
        "    }},\n",
        "    {'$unwind': '$aluguel_carro'},\n",
        "    {'$lookup': {\n",
        "        'from': 'cliente',\n",
        "        'localField': 'codcliente',\n",
        "        'foreignField': 'codcliente',\n",
        "        'as': 'completo'\n",
        "    }},\n",
        "    {'$unwind': '$completo'},\n",
        "    {'$match': {\n",
        "        '$and': [\n",
        "            {'completo.nome': 'Bruna Pereira'},  # Nome específico\n",
        "            {'aluguel_carro.modelo': {'$in': ['Ka', 'Polo']}}  # Modelos específicos\n",
        "        ]\n",
        "    }},\n",
        "    {'$project': {\n",
        "        '_id': 0,\n",
        "        'nome': '$completo.nome',\n",
        "        'data_aluguel': 1,\n",
        "        'modelo': '$aluguel_carro.modelo'\n",
        "    }}\n",
        "]))\n",
        "\n",
        "df = pd.DataFrame(a)\n",
        "display(df)\n"
      ],
      "metadata": {
        "id": "j_4q7VWnN8Kl"
      },
      "execution_count": null,
      "outputs": []
    },
    {
      "cell_type": "code",
      "source": [
        "\n",
        "a = list(db.aluguel.aggregate([\n",
        "    {'$lookup': {\n",
        "        'from': 'carro',\n",
        "        'localField': 'codcarro',\n",
        "        'foreignField': 'codcarro',\n",
        "        'as': 'aluguel_carro'\n",
        "    }},\n",
        "    {'$unwind': '$aluguel_carro'},\n",
        "    {'$lookup': {\n",
        "        'from': 'cliente',\n",
        "        'localField': 'codcliente',\n",
        "        'foreignField': 'codcliente',\n",
        "        'as': 'completo'\n",
        "    }},\n",
        "    {'$unwind': '$completo'},\n",
        "    {'$group': {\n",
        "        '_id': '$aluguel_carro.modelo',  # Agrupando pelo modelo do carro\n",
        "        'clientes_unicos': {'$addToSet': '$completo.nome'},  # Lista única de clientes por modelo\n",
        "        'total_alugueis': {'$sum': 1}  # Contagem total de alugueis por modelo\n",
        "    }},\n",
        "    {'$project': {\n",
        "        '_id': 0,\n",
        "        'modelo': '$_id',\n",
        "        'total_alugueis': 1,\n",
        "        'clientes_unicos': 1\n",
        "    }}\n",
        "]))\n",
        "\n",
        "df = pd.DataFrame(a)\n",
        "display(df)"
      ],
      "metadata": {
        "id": "8DKRmc9ORbP-"
      },
      "execution_count": null,
      "outputs": []
    },
    {
      "cell_type": "code",
      "source": [
        "'''\n",
        "Ordenando pela quantidade de aluguéis de forma inversa\n",
        "'''"
      ],
      "metadata": {
        "id": "CvO2TOskS2V_"
      },
      "execution_count": null,
      "outputs": []
    },
    {
      "cell_type": "code",
      "source": [
        "\n",
        "a = list(db.aluguel.aggregate([\n",
        "    {'$lookup': {\n",
        "        'from': 'carro',\n",
        "        'localField': 'codcarro',\n",
        "        'foreignField': 'codcarro',\n",
        "        'as': 'aluguel_carro'\n",
        "    }},\n",
        "    {'$unwind': '$aluguel_carro'},\n",
        "    {'$lookup': {\n",
        "        'from': 'cliente',\n",
        "        'localField': 'codcliente',\n",
        "        'foreignField': 'codcliente',\n",
        "        'as': 'completo'\n",
        "    }},\n",
        "    {'$unwind': '$completo'},\n",
        "    {'$group': {\n",
        "        '_id': '$aluguel_carro.modelo',  # Agrupando pelo modelo do carro\n",
        "        'clientes_unicos': {'$addToSet': '$completo.nome'},  # Lista única de clientes por modelo\n",
        "        'total_alugueis': {'$sum': 1}  # Contagem total de alugueis por modelo\n",
        "    }},\n",
        "    {'$sort': {\n",
        "        'total_alugueis': -1  # Ordenação decrescente pelos alugueis\n",
        "    }},\n",
        "    {'$project': {\n",
        "        '_id': 0,\n",
        "        'modelo': '$_id',\n",
        "        'total_alugueis': 1,\n",
        "        'clientes_unicos': 1\n",
        "    }}\n",
        "]))\n",
        "\n",
        "df = pd.DataFrame(a)\n",
        "display(df)"
      ],
      "metadata": {
        "id": "f8LzkWBTUzx8"
      },
      "execution_count": null,
      "outputs": []
    },
    {
      "cell_type": "markdown",
      "source": [
        "# Exercícios"
      ],
      "metadata": {
        "id": "y9-XnwdKYsLs"
      }
    },
    {
      "cell_type": "code",
      "source": [
        "'''\n",
        " 1 - Encontre todos os aluguéis e o estado civil dos clientes que alugaram os\n",
        " carros.\n",
        "'''\n",
        "a = list(db.aluguel.aggregate([\n",
        "    {'$lookup': {\n",
        "        'from': 'carro',\n",
        "        'localField': 'codcarro',\n",
        "        'foreignField': 'codcarro',\n",
        "        'as': 'aluguel_carro'\n",
        "    }},\n",
        "    {'$unwind': '$aluguel_carro'},\n",
        "    {'$lookup': {\n",
        "        'from': 'cliente',\n",
        "        'localField': 'codcliente',\n",
        "        'foreignField': 'codcliente',\n",
        "        'as': 'completo'\n",
        "    }},\n",
        "    {'$unwind': '$completo'},\n",
        "    {'$project': {\n",
        "        '_id': 0,\n",
        "        'data_aluguel': 1,\n",
        "        'modelo': '$aluguel_carro.modelo',\n",
        "        'nome': '$completo.nome',\n",
        "        'estadocivil': '$completo.estadocivil'\n",
        "    }}\n",
        "]))\n",
        "\n",
        "df = pd.DataFrame(a)\n",
        "display(df)"
      ],
      "metadata": {
        "id": "qZpIWS_UsVMK"
      },
      "execution_count": null,
      "outputs": []
    },
    {
      "cell_type": "code",
      "source": [
        "'''\n",
        " 1 - Encontre todos os aluguéis e o estado civil dos clientes que alugaram os\n",
        " carros.\n",
        "'''\n",
        "a = list(\n",
        "    db.aluguel.aggregate([\n",
        "        {'$lookup': {\n",
        "            'from': 'cliente',\n",
        "            'localField': 'codcliente',\n",
        "            'foreignField': 'codcliente',\n",
        "            'as': 'aluguel_cliente'\n",
        "        }},\n",
        "        {'$unwind': '$aluguel_cliente'},\n",
        "        {'$lookup': {\n",
        "            'from': 'carro',\n",
        "            'localField': 'codcarro',\n",
        "            'foreignField': 'codcarro',\n",
        "            'as': 'aluguel_carro'\n",
        "        }},\n",
        "        {'$unwind': '$aluguel_carro'},\n",
        "        {'$group': {\n",
        "            '_id': '$aluguel_cliente.nome',\n",
        "            'estado_civil': {'$first': '$aluguel_cliente.estadocivil'},\n",
        "            'total_alugueis': {'$sum': 1},\n",
        "\n",
        "        }},\n",
        "        {'$project': {\n",
        "            '_id': 0,\n",
        "            'nome': '$_id',\n",
        "            'total_alugueis': 1,\n",
        "            'estado_civil': 1\n",
        "        }},\n",
        "    ])\n",
        ")\n",
        "df = pd.DataFrame(a)\n",
        "display(df)"
      ],
      "metadata": {
        "id": "A4FiPbHuYuZE"
      },
      "execution_count": null,
      "outputs": []
    },
    {
      "cell_type": "code",
      "source": [
        "'''\n",
        "2 - Liste os clientes e as cidades em que moram para aqueles que alugaram carros.\n",
        "'''\n",
        "a = list(\n",
        "    db.cliente.aggregate([\n",
        "        {'$lookup': {\n",
        "            'from': 'aluguel',\n",
        "            'localField': 'codcliente',\n",
        "            'foreignField': 'codcliente',\n",
        "            'as': 'cliente_aluguel'\n",
        "        }},\n",
        "        {'$match': {'cliente_aluguel': {'$ne': []}}},  # Filtrar apenas clientes que têm registros de aluguel\n",
        "        {'$project': {\n",
        "            'nome': 1,\n",
        "            'cidade': 1,\n",
        "            '_id': 0\n",
        "        }}\n",
        "    ])\n",
        ")\n",
        "df = pd.DataFrame(a)\n",
        "display(df)\n"
      ],
      "metadata": {
        "id": "GlW0FX2lZtmO"
      },
      "execution_count": null,
      "outputs": []
    },
    {
      "cell_type": "code",
      "source": [
        "'''\n",
        "2 - Liste os clientes e as cidades em que moram para aqueles que alugaram carros.\n",
        "'''\n",
        "a = list(db.aluguel.aggregate([\n",
        "    {'$lookup': {\n",
        "        'from': 'cliente',\n",
        "        'localField': 'codcliente',\n",
        "        'foreignField': 'codcliente',\n",
        "        'as': 'cliente_info'\n",
        "    }},\n",
        "    {'$unwind': '$cliente_info'},\n",
        "    {'$project': {\n",
        "        '_id': 0,\n",
        "        'nome': '$cliente_info.nome',\n",
        "        'cidade': '$cliente_info.cidade'\n",
        "    }},\n",
        "    {'$group': {\n",
        "        '_id': {\n",
        "            'nome': '$nome',\n",
        "            'cidade': '$cidade'\n",
        "        }}},\n",
        "    {'$project': {\n",
        "        '_id': 0,\n",
        "        'nome': '$_id.nome',\n",
        "        'cidade': '$_id.cidade'\n",
        "    }}\n",
        "]))\n",
        "\n",
        "df = pd.DataFrame(a)\n",
        "display(df)"
      ],
      "metadata": {
        "id": "5PJFtP5Vsbt7"
      },
      "execution_count": null,
      "outputs": []
    },
    {
      "cell_type": "code",
      "source": [
        "'''\n",
        "3 - Liste os clientes que alugaram carros e os modelos de carros que eles\n",
        "alugaram, incluindo a marca do carro.\n",
        "'''\n",
        "a = list(db.cliente.aggregate([\n",
        "    {'$lookup': {\n",
        "        'from': 'aluguel',\n",
        "        'localField': 'codcliente',\n",
        "        'foreignField': 'codcliente',\n",
        "        'as': 'cliente_aluguel'\n",
        "    }},\n",
        "    {'$unwind': '$cliente_aluguel'},\n",
        "    {'$lookup': {\n",
        "        'from': 'carro',\n",
        "        'localField': 'cliente_aluguel.codcarro',\n",
        "        'foreignField': 'codcarro',\n",
        "        'as': 'carro_aluguel'\n",
        "    }},\n",
        "    {'$unwind': '$carro_aluguel'},\n",
        "    {'$lookup': {\n",
        "        'from': 'marca',\n",
        "        'localField': 'carro_aluguel.codmarca',\n",
        "        'foreignField': 'codmarca',\n",
        "        'as': 'marca_carro'\n",
        "    }},\n",
        "    {'$unwind': '$marca_carro'},\n",
        "    {'$group': {\n",
        "        '_id': '$marca_carro.marca',\n",
        "        'nomes': {'$addToSet': '$nome'},\n",
        "        'modelos_alugados': {'$addToSet': '$carro_aluguel.modelo'}\n",
        "    }},\n",
        "    {'$project': {\n",
        "        '_id': 0,\n",
        "        'marca': '$_id',\n",
        "        'nomes': 1,\n",
        "        'modelos_alugados': 1\n",
        "    }}\n",
        "]))\n",
        "df = pd.DataFrame(a)\n",
        "display(df)\n"
      ],
      "metadata": {
        "id": "7QkqouA7Z5K2"
      },
      "execution_count": null,
      "outputs": []
    },
    {
      "cell_type": "code",
      "source": [
        "'''\n",
        "4 - Encontre todos os aluguéis realizados em uma cidade específica e liste os\n",
        "nomes dos clientes e os modelos de carros alugados.\n",
        "'''\n",
        "a = list(db.aluguel.aggregate([\n",
        "      {'$lookup': {\n",
        "            'from': 'cliente',\n",
        "            'localField': 'codcliente',\n",
        "            'foreignField': 'codcliente',\n",
        "            'as': 'aluguel_cliente'\n",
        "        }},\n",
        "        {'$unwind': '$aluguel_cliente'},\n",
        "        {'$lookup': {\n",
        "            'from': 'carro',\n",
        "            'localField': 'codcarro',\n",
        "            'foreignField': 'codcarro',\n",
        "            'as': 'aluguel_carro'\n",
        "        }},\n",
        "         {'$unwind': '$aluguel_carro'},\n",
        "        {'$match': {\n",
        "\n",
        "            'aluguel_cliente.cidade': 'Duque de Caxias'\n",
        "        }},\n",
        "      {\n",
        "          '$group': {\n",
        "            '_id': '$aluguel_cliente.nome',\n",
        "            'modelo_carro': {'$addToSet': '$aluguel_carro.modelo'}\n",
        "        }\n",
        "      },\n",
        "        {'$project': {\n",
        "            '_id': 0,\n",
        "            'nome_cliente': '$aluguel_cliente.nome',\n",
        "            'modelo_carro': '$aluguel_carro.modelo'\n",
        "        }}\n",
        "]))\n",
        "df = pd.DataFrame(a)\n",
        "display(df)"
      ],
      "metadata": {
        "id": "ntRcMjO4Z_k3"
      },
      "execution_count": null,
      "outputs": []
    },
    {
      "cell_type": "code",
      "source": [
        "'''\n",
        "5 - Liste os modelos de carros e a quantidade de vezes que foram alugados.\n",
        "'''\n",
        "a= list(db.aluguel.aggregate([\n",
        "   {\n",
        "       '$lookup':{\n",
        "           'from':'carro',\n",
        "           'localField':'codcarro',\n",
        "           'foreignField':'codcarro',\n",
        "           'as':'aluguel_carro'\n",
        "       }},\n",
        "       {\n",
        "           '$unwind':'$aluguel_carro'\n",
        "       },\n",
        "       {'$group':{\n",
        "           '_id':'$aluguel_carro.modelo',\n",
        "           'total_alugueis':{'$sum':1}}\n",
        "\n",
        "   }\n",
        "   ,{'$project':{\n",
        "       '_id':0,\n",
        "       'modelo':'$_id',\n",
        "       'total_alugueis':1}}\n",
        "]))\n",
        "df=pd.DataFrame(a)\n",
        "display(df)"
      ],
      "metadata": {
        "id": "2j2f-REgaL7Z"
      },
      "execution_count": null,
      "outputs": []
    },
    {
      "cell_type": "code",
      "source": [
        "'''\n",
        "6 - Encontre os clientes que alugaram mais de um carro.\n",
        "'''\n",
        "a= list(db.aluguel.aggregate([\n",
        "    {'$lookup':{\n",
        "        'from':'cliente',\n",
        "        'localField':'codcliente',\n",
        "        'foreignField':'codcliente',\n",
        "        'as':'aluguel_cliente'\n",
        "    }},\n",
        "    {'$unwind':'$aluguel_cliente'},\n",
        "    {'$group':{\n",
        "        '_id':'$aluguel_cliente.nome',\n",
        "        'total_alugueis':{'$sum':1}\n",
        "    }},\n",
        "    {'$match':{\n",
        "        'total_alugueis':{'$gt':1}}},\n",
        "    {'$project':{\n",
        "        '_id':0,\n",
        "        'nome':'$_id',\n",
        "        'total_alugueis':1\n",
        "    }}\n",
        "]))\n",
        "df=pd.DataFrame(a)\n",
        "display(df)"
      ],
      "metadata": {
        "id": "SXvBp1zwaTU2"
      },
      "execution_count": null,
      "outputs": []
    },
    {
      "cell_type": "code",
      "source": [
        "'''\n",
        "7 - Liste os clientes que alugaram carros mais de uma vez e os modelos e\n",
        "marcas dos carros que alugaram.\n",
        "'''\n",
        "a= list(db.aluguel.aggregate([\n",
        "    {'$lookup':{\n",
        "        'from':'cliente',\n",
        "        'localField':'codcliente',\n",
        "        'foreignField':'codcliente',\n",
        "        'as':'aluguel_cliente'\n",
        "    }},\n",
        "    {'$unwind':'$aluguel_cliente'},\n",
        "    {'$lookup':{\n",
        "        'from':'carro',\n",
        "        'localField':'codcarro',\n",
        "        'foreignField':'codcarro',\n",
        "        'as':'aluguel_carro'\n",
        "    }},\n",
        "    {'$unwind':'$aluguel_carro'},\n",
        "    {'$lookup':{\n",
        "        'from':'marca',\n",
        "        'localField':'aluguel_carro.codmarca',\n",
        "        'foreignField':'codmarca',\n",
        "        'as':'marca_carro'\n",
        "    }},\n",
        "    {'$unwind':'$marca_carro'},\n",
        "    {\n",
        "        '$match':{\n",
        "            'aluguel_cliente.nome':{'$exists':True}\n",
        "        }\n",
        "        }\n",
        "    ,{'$group':{\n",
        "        '_id':'$aluguel_cliente.nome',\n",
        "        'total_alugueis':{'$sum':1},\n",
        "        'modelos_alugados':{'$addToSet':'$aluguel_carro.modelo'},\n",
        "        'marcas_alugadas':{'$addToSet':'$marca_carro.marca'}\n",
        "    }}\n",
        "    ,{'$project':{\n",
        "        '_id':0,\n",
        "        'nome':'$_id',\n",
        "        'total_alugueis':1,\n",
        "        'modelos_alugados':1,\n",
        "        'marcas_alugadas':1\n",
        "    }}\n",
        "\n",
        "]))\n",
        "df=pd.DataFrame(a)\n",
        "display(df)"
      ],
      "metadata": {
        "id": "bP5aleF3aX2B"
      },
      "execution_count": null,
      "outputs": []
    }
  ]
}